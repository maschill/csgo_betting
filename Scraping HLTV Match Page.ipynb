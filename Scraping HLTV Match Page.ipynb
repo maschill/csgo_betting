{
 "cells": [
  {
   "cell_type": "code",
   "execution_count": 1,
   "metadata": {
    "ExecuteTime": {
     "end_time": "2019-01-04T22:34:33.537982Z",
     "start_time": "2019-01-04T22:34:32.900060Z"
    }
   },
   "outputs": [],
   "source": [
    "import lxml, bs4, requests\n",
    "from bs4 import BeautifulSoup"
   ]
  },
  {
   "cell_type": "code",
   "execution_count": 2,
   "metadata": {
    "ExecuteTime": {
     "end_time": "2019-01-04T22:34:33.549982Z",
     "start_time": "2019-01-04T22:34:33.537982Z"
    }
   },
   "outputs": [
    {
     "name": "stdout",
     "output_type": "stream",
     "text": [
      "  team | stake | payout\n",
      "----------------------------------------\n",
      " abc   |  60.0 | 132.0\n",
      " defgh |  40.0 | 132.0\n"
     ]
    }
   ],
   "source": [
    "def dutch_book_stakes(odds1, odds2, team1, team2, bet = 100):   \n",
    "    #calculate first stake\n",
    "    s1 = 1 - odds1/(odds1+odds2)\n",
    "    s1 = round(s1, 4)*bet\n",
    "    #calculate second stake\n",
    "    s2 = bet - s1\n",
    "    l=max(len(team1), len(team2))\n",
    "\n",
    "    print(f\"{' '*(l-4)} team | stake | payout\")\n",
    "    print(\"-\" * 40)\n",
    "    print(f\" {team1:{l}} | {s1:5.5} | {s1*odds1:3.6}\\n {team2:{l}} | {s2:5.5} | {s1*odds1:3.6}\")\n",
    "    \n",
    "    \n",
    "dutch_book_stakes(2.2, 3.3, \"abc\", \"defgh\")"
   ]
  },
  {
   "cell_type": "code",
   "execution_count": 3,
   "metadata": {
    "ExecuteTime": {
     "end_time": "2019-01-04T22:34:34.365981Z",
     "start_time": "2019-01-04T22:34:33.577984Z"
    }
   },
   "outputs": [],
   "source": [
    "from selenium import webdriver\n",
    "from selenium.webdriver.common.keys import Keys\n",
    "from selenium.webdriver.support.ui import Select\n",
    "from selenium.webdriver.chrome.options import Options"
   ]
  },
  {
   "cell_type": "code",
   "execution_count": 4,
   "metadata": {
    "ExecuteTime": {
     "end_time": "2019-01-04T22:34:34.373988Z",
     "start_time": "2019-01-04T22:34:34.365981Z"
    }
   },
   "outputs": [],
   "source": [
    "import time\n",
    "from operator import itemgetter"
   ]
  },
  {
   "cell_type": "code",
   "execution_count": 10,
   "metadata": {
    "ExecuteTime": {
     "end_time": "2019-01-04T22:40:01.120300Z",
     "start_time": "2019-01-04T22:40:01.116203Z"
    }
   },
   "outputs": [],
   "source": [
    "import pandas as pd"
   ]
  },
  {
   "cell_type": "code",
   "execution_count": 5,
   "metadata": {
    "ExecuteTime": {
     "end_time": "2019-01-04T22:34:34.394016Z",
     "start_time": "2019-01-04T22:34:34.373988Z"
    }
   },
   "outputs": [],
   "source": [
    "url = \"https://www.hltv.org/matches/2329667/mousesports-vs-natus-vincere-esl-pro-league-season-8-finals\"\n"
   ]
  },
  {
   "cell_type": "code",
   "execution_count": 12,
   "metadata": {
    "ExecuteTime": {
     "end_time": "2019-01-04T22:42:14.317194Z",
     "start_time": "2019-01-04T22:42:14.301058Z"
    }
   },
   "outputs": [],
   "source": [
    "\n",
    "def get_bets(url, driver):\n",
    "    odds = []\n",
    "    driver.get(url)\n",
    "    bo = driver.find_elements_by_css_selector(\".veto-box\")[0].text[8]\n",
    "    if bo == \"2\":\n",
    "        return None\n",
    "    \n",
    "    \n",
    "    allowed_providers = [\"egb\", \"betway\", \"bet365\", \"1xbet\", \"22bet\", \"ggbet\", \"lootbet\"]\n",
    "    time.sleep(2)\n",
    "    for betting_box in driver.find_elements_by_css_selector(\".betting\"):\n",
    "        for line in betting_box.find_elements_by_css_selector(\".betting_provider\"):\n",
    "            cell_entries = []\n",
    "            for cell in line.find_elements_by_css_selector(\"td\"):\n",
    "                cell_entries.append(cell.text)\n",
    "            if len(cell_entries) > 2 and cell_entries[2] == \"-\" and \"%\" not in cell_entries[-1]:\n",
    "                provider = line.get_attribute(\"class\").split(\" \")[-2].split(\"_\")[1]\n",
    "                if provider in allowed_providers:\n",
    "                    odds.append([provider, cell_entries[1], cell_entries[-1]])\n",
    "    split_url = url[37:].split(\"-\")\n",
    "    if \"vs\" in split_url:\n",
    "        ix = split_url.index(\"vs\")\n",
    "        team1 = \" \".join(split_url[:ix])\n",
    "        team2 = split_url[ix+1]\n",
    "    else: \n",
    "        team1 = split_url[0]\n",
    "        team2 = split_url[2]\n",
    "    \n",
    "    print(f\"    provider | {team1} | {team2}\")\n",
    "    print(\"-\"*13+\"+\"+\"-\"*(2+max(5,len(team1)))+\"+\"+\"-\"*(1+max(5,len(team2))))\n",
    "    for odd in odds: \n",
    "        print(f'{odd[0]:{12}} | {\" \"*(len(team1)-5)}{odd[1]:{5}} | {\" \"*(len(team2)-5)}{odd[2]:{5}}')\n",
    "    \n",
    "    print(\"-\"*13+\"-\"+\"-\"*(2+max(5,len(team1)))+\"-\"+\"-\"*(1+max(5,len(team2)))+\"\\n\")\n",
    "    return odds, team1, team2    "
   ]
  },
  {
   "cell_type": "code",
   "execution_count": 13,
   "metadata": {
    "ExecuteTime": {
     "end_time": "2019-01-04T22:43:21.198508Z",
     "start_time": "2019-01-04T22:42:14.653895Z"
    },
    "scrolled": false
   },
   "outputs": [
    {
     "name": "stdout",
     "output_type": "stream",
     "text": [
      "    provider | rog fl0m | rog\n",
      "-------------+----------+------\n",
      "egb          |    2.35  | 1.49 \n",
      "ggbet        |    1.86  | 1.86 \n",
      "1xbet        |    1.66  | 1.89 \n",
      "-------------------------------\n",
      "\n",
      "best odds: rog fl0m: 2.35(egb) rog: 1.89(1xbet)\n",
      "     team | stake | payout\n",
      "----------------------------------------\n",
      " rog fl0m | 44.58 | 104.763\n",
      " rog      | 55.42 | 104.763\n",
      "----------------------------------------\n",
      "\n",
      "    provider | rog spunj | rog\n",
      "-------------+-----------+------\n",
      "--------------------------------\n",
      "\n",
      "    provider | rog pronax | rog\n",
      "-------------+------------+------\n",
      "---------------------------------\n",
      "\n",
      "    provider | london | cex\n",
      "-------------+--------+------\n",
      "egb          |  1.05  | 5.53 \n",
      "betway       |  1.08  | 6.50 \n",
      "lootbet      |  1.14  | 5.20 \n",
      "ggbet        |  1.08  | 6.44 \n",
      "bet365       |  1.10  | 6.50 \n",
      "1xbet        |  1.09  | 6.40 \n",
      "-----------------------------\n",
      "\n",
      "best odds: london: 1.14(lootbet) cex: 6.5(betway)\n",
      "   team | stake | payout\n",
      "----------------------------------------\n",
      " london | 85.08 | 96.9912\n",
      " cex    | 14.92 | 96.9912\n",
      "----------------------------------------\n",
      "\n",
      "    provider | rog henryg | rog\n",
      "-------------+------------+------\n",
      "---------------------------------\n",
      "\n",
      "    provider | endpoint | orgles5\n",
      "-------------+----------+--------\n",
      "egb          |    1.01  |   7.00 \n",
      "betway       |    1.03  |   9.00 \n",
      "lootbet      |    1.05  |   8.50 \n",
      "ggbet        |    1.05  |   7.76 \n",
      "bet365       |    1.05  |   8.50 \n",
      "1xbet        |    1.04  |   9.00 \n",
      "---------------------------------\n",
      "\n",
      "best odds: endpoint: 1.05(lootbet) orgles5: 9.0(betway)\n",
      "     team | stake | payout\n",
      "----------------------------------------\n",
      " endpoint | 89.55 | 94.0275\n",
      " orgles5  | 10.45 | 94.0275\n",
      "----------------------------------------\n",
      "\n",
      "    provider | rog izakooo | rog\n",
      "-------------+-------------+------\n",
      "----------------------------------\n",
      "\n",
      "    provider | asus | group\n",
      "-------------+-------+------\n",
      "----------------------------\n",
      "\n",
      "    provider | esl | premiership\n",
      "-------------+-------+------------\n",
      "----------------------------------\n",
      "\n"
     ]
    }
   ],
   "source": [
    "driver = webdriver.Chrome(\"chromedriver_win32/chromedriver.exe\")\n",
    "driver.get(\"https://www.hltv.org\")\n",
    "all_odds = []\n",
    "matches = []\n",
    "for match in driver.find_elements_by_css_selector(\".hotmatch-box\"):\n",
    "    matches.append(match.get_attribute(\"href\"))\n",
    "\n",
    "time.sleep(1.337)\n",
    "    \n",
    "for match in matches:\n",
    "    page_data = get_bets(match, driver)\n",
    "    if page_data == None or len(page_data[0]) < 1:\n",
    "        continue\n",
    "    all_odds.append(page_data)\n",
    "    odds, team1, team2 = all_odds[-1]\n",
    "    df = pd.DataFrame(odds, columns=[\"provider\", \"team1\", \"team2\"])\n",
    "    df[\"team1\"] = pd.to_numeric(df[\"team1\"])\n",
    "    df[\"team2\"] = pd.to_numeric(df[\"team2\"])\n",
    "    t1_max = df[\"team1\"].max()\n",
    "    t2_max = df[\"team2\"].max()\n",
    "    print(f\"best odds: {team1}: {t1_max}({df[df['team1']==t1_max].iloc[0,0]}) {team2}: {t2_max}({df[df['team2']==t2_max].iloc[0,0]})\")\n",
    "    dutch_book_stakes(t1_max, t2_max, team1, team2)\n",
    "    print(2*\"--------------------\"+\"\\n\")\n",
    "driver.quit()"
   ]
  },
  {
   "cell_type": "code",
   "execution_count": null,
   "metadata": {},
   "outputs": [],
   "source": []
  },
  {
   "cell_type": "code",
   "execution_count": null,
   "metadata": {},
   "outputs": [],
   "source": []
  },
  {
   "cell_type": "code",
   "execution_count": null,
   "metadata": {},
   "outputs": [],
   "source": []
  }
 ],
 "metadata": {
  "kernelspec": {
   "display_name": "Python 3",
   "language": "python",
   "name": "python3"
  },
  "language_info": {
   "codemirror_mode": {
    "name": "ipython",
    "version": 3
   },
   "file_extension": ".py",
   "mimetype": "text/x-python",
   "name": "python",
   "nbconvert_exporter": "python",
   "pygments_lexer": "ipython3",
   "version": "3.6.7"
  }
 },
 "nbformat": 4,
 "nbformat_minor": 2
}
